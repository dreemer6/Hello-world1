{
  "nbformat": 4,
  "nbformat_minor": 0,
  "metadata": {
    "colab": {
      "name": "even_odd_split.ipynb",
      "provenance": [],
      "authorship_tag": "ABX9TyMqvBVtFFLMc/KUZR63kLBQ",
      "include_colab_link": true
    },
    "kernelspec": {
      "name": "python3",
      "display_name": "Python 3"
    },
    "language_info": {
      "name": "python"
    }
  },
  "cells": [
    {
      "cell_type": "markdown",
      "metadata": {
        "id": "view-in-github",
        "colab_type": "text"
      },
      "source": [
        "<a href=\"https://colab.research.google.com/github/dreemer6/Hello-world1/blob/master/even_odd_split.ipynb\" target=\"_parent\"><img src=\"https://colab.research.google.com/assets/colab-badge.svg\" alt=\"Open In Colab\"/></a>"
      ]
    },
    {
      "cell_type": "markdown",
      "metadata": {
        "id": "MXS8PXT7-dX-"
      },
      "source": [
        "NumPy solution"
      ]
    },
    {
      "cell_type": "code",
      "metadata": {
        "colab": {
          "base_uri": "https://localhost:8080/"
        },
        "id": "9bozCKff-KLd",
        "outputId": "82def700-3bdc-4ea6-b620-fb4da087ed3a"
      },
      "source": [
        "import numpy as np\n",
        "import time\n",
        "\n",
        "numbers=[*range(10 ** 7)]\n",
        "\n",
        "start_time = time.time()\n",
        "\n",
        "#convert the list 'numbers' to a NumPy array\n",
        "#start main code block\n",
        "numbers = np.array(numbers)\n",
        "\n",
        "even = numbers[numbers % 2 == 0]\n",
        "odd = numbers[numbers % 2 != 0]\n",
        "\n",
        "# end main code block\n",
        "\n",
        "end_time = time.time()\n",
        "total_time = end_time - start_time\n",
        "print(f'The NumPy method took {total_time} to run!')\n",
        "\n",
        "#print(list(even), list(odd))"
      ],
      "execution_count": 9,
      "outputs": [
        {
          "output_type": "stream",
          "text": [
            "The NumPy method took 1.3405773639678955 to run!\n"
          ],
          "name": "stdout"
        }
      ]
    },
    {
      "cell_type": "markdown",
      "metadata": {
        "id": "Wqr0i5KO-mYC"
      },
      "source": [
        "For loop solution"
      ]
    },
    {
      "cell_type": "code",
      "metadata": {
        "colab": {
          "base_uri": "https://localhost:8080/"
        },
        "id": "lYN-bi5i-l5E",
        "outputId": "33f6b1ea-ba32-4195-9a01-1c11103ca1ec"
      },
      "source": [
        "numbers=[*range(10 ** 7)]\n",
        "\n",
        "start_time = time.time()\n",
        "\n",
        "even = [number for number in numbers if (number % 2 == 0)]\n",
        "odd = [number for number in numbers if (number % 2 != 0)]\n",
        "\n",
        "end_time = time.time()\n",
        "total_time = end_time - start_time\n",
        "print(f'For loop took {total_time} to run!')\n",
        "\n",
        "#print(even, odd)"
      ],
      "execution_count": 10,
      "outputs": [
        {
          "output_type": "stream",
          "text": [
            "For loop took 1.5666730403900146 to run!\n"
          ],
          "name": "stdout"
        }
      ]
    },
    {
      "cell_type": "markdown",
      "metadata": {
        "id": "74gfUUDZ-X8O"
      },
      "source": [
        "While loop solution"
      ]
    },
    {
      "cell_type": "code",
      "metadata": {
        "colab": {
          "base_uri": "https://localhost:8080/"
        },
        "id": "2mvv3AAH-Ssb",
        "outputId": "0f09310c-b169-4132-bc8d-9f8208fc3fb2"
      },
      "source": [
        "numbers=[*range(10 ** 7)]\n",
        "\n",
        "start_time = time.time()\n",
        "\n",
        "even = []\n",
        "odd = []\n",
        "\n",
        "while len(numbers) > 0:\n",
        "  number=numbers.pop()\n",
        "  if number % 2 == 0:\n",
        "    even.append(number)\n",
        "  else:\n",
        "    odd.append(number)\n",
        "\n",
        "end_time = time.time()\n",
        "total_time = end_time - start_time\n",
        "print(f'While loop took {total_time} to run!')\n",
        "\n",
        "#print(even, odd)"
      ],
      "execution_count": 11,
      "outputs": [
        {
          "output_type": "stream",
          "text": [
            "While loop took 4.244381666183472 to run!\n"
          ],
          "name": "stdout"
        }
      ]
    },
    {
      "cell_type": "code",
      "metadata": {
        "id": "ND2JqkMXjB2L"
      },
      "source": [
        "def split_list(numbers):\n",
        "  import numpy as np\n",
        "  numbers = np.array(numbers)\n",
        "\n",
        "  even = numbers[numbers % 2 == 0]\n",
        "  odd = numbers[numbers % 2 != 0]\n",
        "  \n",
        "  return even, odd\n"
      ],
      "execution_count": 10,
      "outputs": []
    },
    {
      "cell_type": "code",
      "metadata": {
        "id": "zsMGmx4nj7BF"
      },
      "source": [
        "n = [*range(1, 50, 3)]"
      ],
      "execution_count": 11,
      "outputs": []
    },
    {
      "cell_type": "code",
      "metadata": {
        "id": "MO-6TfvgkOWy"
      },
      "source": [
        "s = split_list(n)"
      ],
      "execution_count": 13,
      "outputs": []
    }
  ]
}